{
 "cells": [
  {
   "cell_type": "markdown",
   "metadata": {},
   "source": [
    "# Benchmark Perception Demo\n",
    "This notebook shows how to execute `benchmark_perception.py` from Python and visualize the mAP results."
   ]
  },
  {
   "cell_type": "code",
   "execution_count": null,
   "metadata": {},
   "outputs": [],
   "source": [
    "import subprocess, json, matplotlib.pyplot as plt\n",
    "\n",
    "images_dir = '/path/to/images'  # Update with your dataset\n",
    "annotations = '/path/to/annotations.json'\n",
    "output_file = 'results.json'\n",
    "\n",
    "subprocess.run([\n",
    "    'python', '../scripts/benchmark_perception.py',\n",
    "    '--images', images_dir,\n",
    "    '--annotations', annotations,\n",
    "    '--output', output_file\n",
    "], check=True)\n",
    "\n",
    "with open(output_file) as f:\n",
    "    results = json.load(f)\n",
    "results"
   ]
  },
  {
   "cell_type": "code",
   "execution_count": null,
   "metadata": {},
   "outputs": [],
   "source": [
    "ap = results['AP_per_class']\n",
    "plt.figure(figsize=(8,4))\n",
    "plt.bar(ap.keys(), ap.values())\n",
    "plt.ylabel('Average Precision')\n",
    "plt.title(f"mAP: {results['mAP']:.2f}")\n",
    "plt.xticks(rotation=45)\n",
    "plt.show()"
   ]
  }
 ],
 "metadata": {
  "kernelspec": {
   "display_name": "Python 3",
   "language": "python",
   "name": "python3"
  },
  "language_info": {
   "name": "python",
   "version": "3.x"
  }
 },
 "nbformat": 4,
 "nbformat_minor": 5
}
